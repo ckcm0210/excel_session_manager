{
 "cells": [
  {
   "cell_type": "code",
   "execution_count": null,
   "id": "b6de73d7-4e47-460d-b609-1a01c7af32f0",
   "metadata": {},
   "outputs": [],
   "source": [
    "%run excel_session_manager_v16.py"
   ]
  },
  {
   "cell_type": "code",
   "execution_count": null,
   "id": "74eecb6f-5b72-4b39-a51c-2bdccf081252",
   "metadata": {},
   "outputs": [],
   "source": []
  },
  {
   "cell_type": "code",
   "execution_count": null,
   "id": "c3f3ea74-7f1d-4630-82e6-ea3d36b8c17f",
   "metadata": {},
   "outputs": [],
   "source": []
  }
 ],
 "metadata": {
  "kernelspec": {
   "display_name": "Python [conda env:base] *",
   "language": "python",
   "name": "conda-base-py"
  },
  "language_info": {
   "codemirror_mode": {
    "name": "ipython",
    "version": 3
   },
   "file_extension": ".py",
   "mimetype": "text/x-python",
   "name": "python",
   "nbconvert_exporter": "python",
   "pygments_lexer": "ipython3",
   "version": "3.12.7"
  }
 },
 "nbformat": 4,
 "nbformat_minor": 5
}
